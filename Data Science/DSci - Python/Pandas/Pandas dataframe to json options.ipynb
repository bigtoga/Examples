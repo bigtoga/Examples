{
 "cells": [
  {
   "cell_type": "code",
   "execution_count": 1,
   "metadata": {},
   "outputs": [
    {
     "name": "stdout",
     "output_type": "stream",
     "text": [
      "  Country        Date  Cases\n",
      "0     USA  2020-03-01    100\n",
      "1     USA  2020-03-02    200\n",
      "2   China  2020-03-01  80000\n",
      "3   China  2020-03-02  80001\n",
      "4   Italy  2020-03-01   5000\n",
      "5   Italy  2020-03-02   5050\n"
     ]
    }
   ],
   "source": [
    "import pandas as pd;\n",
    "import json\n",
    "\n",
    "sampleData = {\n",
    "    'Country': ['USA', 'USA','China','China', 'Italy', 'Italy']\n",
    "    , 'Date':  ['2020-03-01', '2020-03-02', '2020-03-01', '2020-03-02', '2020-03-01', '2020-03-02']\n",
    "    , 'Cases': [100, 200, 80000, 80001, 5000, 5050]\n",
    "}\n",
    "\n",
    "df = pd.DataFrame(sampleData, columns= ['Country', 'Date', 'Cases'])\n",
    "print (df)"
   ]
  },
  {
   "cell_type": "code",
   "execution_count": 2,
   "metadata": {},
   "outputs": [],
   "source": [
    "# Export to file\n",
    "jsonFile = 'temp.json';"
   ]
  },
  {
   "cell_type": "code",
   "execution_count": 3,
   "metadata": {},
   "outputs": [
    {
     "name": "stdout",
     "output_type": "stream",
     "text": [
      "{\n",
      "    \"Cases\": {\n",
      "        \"0\": 100,\n",
      "        \"1\": 200,\n",
      "        \"2\": 80000,\n",
      "        \"3\": 80001,\n",
      "        \"4\": 5000,\n",
      "        \"5\": 5050\n",
      "    },\n",
      "    \"Country\": {\n",
      "        \"0\": \"USA\",\n",
      "        \"1\": \"USA\",\n",
      "        \"2\": \"China\",\n",
      "        \"3\": \"China\",\n",
      "        \"4\": \"Italy\",\n",
      "        \"5\": \"Italy\"\n",
      "    },\n",
      "    \"Date\": {\n",
      "        \"0\": \"2020-03-01\",\n",
      "        \"1\": \"2020-03-02\",\n",
      "        \"2\": \"2020-03-01\",\n",
      "        \"3\": \"2020-03-02\",\n",
      "        \"4\": \"2020-03-01\",\n",
      "        \"5\": \"2020-03-02\"\n",
      "    }\n",
      "}\n"
     ]
    }
   ],
   "source": [
    "# Default orient setting - one element for each series value. \n",
    "df.to_json(jsonFile)\n",
    "\n",
    "with open(jsonFile) as f:\n",
    "  jsonData = json.load(f)\n",
    "\n",
    "print(json.dumps(jsonData, indent=4, sort_keys=True))"
   ]
  },
  {
   "cell_type": "code",
   "execution_count": 4,
   "metadata": {},
   "outputs": [
    {
     "name": "stdout",
     "output_type": "stream",
     "text": [
      "{\n",
      "    \"columns\": [\n",
      "        \"Country\",\n",
      "        \"Date\",\n",
      "        \"Cases\"\n",
      "    ],\n",
      "    \"data\": [\n",
      "        [\n",
      "            \"USA\",\n",
      "            \"2020-03-01\",\n",
      "            100\n",
      "        ],\n",
      "        [\n",
      "            \"USA\",\n",
      "            \"2020-03-02\",\n",
      "            200\n",
      "        ],\n",
      "        [\n",
      "            \"China\",\n",
      "            \"2020-03-01\",\n",
      "            80000\n",
      "        ],\n",
      "        [\n",
      "            \"China\",\n",
      "            \"2020-03-02\",\n",
      "            80001\n",
      "        ],\n",
      "        [\n",
      "            \"Italy\",\n",
      "            \"2020-03-01\",\n",
      "            5000\n",
      "        ],\n",
      "        [\n",
      "            \"Italy\",\n",
      "            \"2020-03-02\",\n",
      "            5050\n",
      "        ]\n",
      "    ],\n",
      "    \"index\": [\n",
      "        0,\n",
      "        1,\n",
      "        2,\n",
      "        3,\n",
      "        4,\n",
      "        5\n",
      "    ]\n",
      "}\n"
     ]
    }
   ],
   "source": [
    "# orient 'split' creates three elements: columns, data, index\n",
    "df.to_json(jsonFile, orient='split')\n",
    "\n",
    "with open(jsonFile) as f:\n",
    "  jsonData = json.load(f)\n",
    "\n",
    "print(json.dumps(jsonData, indent=4, sort_keys=True))"
   ]
  },
  {
   "cell_type": "code",
   "execution_count": 5,
   "metadata": {},
   "outputs": [
    {
     "name": "stdout",
     "output_type": "stream",
     "text": [
      "[\n",
      "    {\n",
      "        \"Cases\": 100,\n",
      "        \"Country\": \"USA\",\n",
      "        \"Date\": \"2020-03-01\"\n",
      "    },\n",
      "    {\n",
      "        \"Cases\": 200,\n",
      "        \"Country\": \"USA\",\n",
      "        \"Date\": \"2020-03-02\"\n",
      "    },\n",
      "    {\n",
      "        \"Cases\": 80000,\n",
      "        \"Country\": \"China\",\n",
      "        \"Date\": \"2020-03-01\"\n",
      "    },\n",
      "    {\n",
      "        \"Cases\": 80001,\n",
      "        \"Country\": \"China\",\n",
      "        \"Date\": \"2020-03-02\"\n",
      "    },\n",
      "    {\n",
      "        \"Cases\": 5000,\n",
      "        \"Country\": \"Italy\",\n",
      "        \"Date\": \"2020-03-01\"\n",
      "    },\n",
      "    {\n",
      "        \"Cases\": 5050,\n",
      "        \"Country\": \"Italy\",\n",
      "        \"Date\": \"2020-03-02\"\n",
      "    }\n",
      "]\n"
     ]
    }
   ],
   "source": [
    "# orient 'records' creates one element per row\n",
    "df.to_json(jsonFile, orient='records')\n",
    "\n",
    "with open(jsonFile) as f:\n",
    "  jsonData = json.load(f)\n",
    "\n",
    "print(json.dumps(jsonData, indent=4, sort_keys=True))"
   ]
  },
  {
   "cell_type": "code",
   "execution_count": 6,
   "metadata": {},
   "outputs": [
    {
     "name": "stdout",
     "output_type": "stream",
     "text": [
      "{\n",
      "    \"0\": {\n",
      "        \"Cases\": 100,\n",
      "        \"Country\": \"USA\",\n",
      "        \"Date\": \"2020-03-01\"\n",
      "    },\n",
      "    \"1\": {\n",
      "        \"Cases\": 200,\n",
      "        \"Country\": \"USA\",\n",
      "        \"Date\": \"2020-03-02\"\n",
      "    },\n",
      "    \"2\": {\n",
      "        \"Cases\": 80000,\n",
      "        \"Country\": \"China\",\n",
      "        \"Date\": \"2020-03-01\"\n",
      "    },\n",
      "    \"3\": {\n",
      "        \"Cases\": 80001,\n",
      "        \"Country\": \"China\",\n",
      "        \"Date\": \"2020-03-02\"\n",
      "    },\n",
      "    \"4\": {\n",
      "        \"Cases\": 5000,\n",
      "        \"Country\": \"Italy\",\n",
      "        \"Date\": \"2020-03-01\"\n",
      "    },\n",
      "    \"5\": {\n",
      "        \"Cases\": 5050,\n",
      "        \"Country\": \"Italy\",\n",
      "        \"Date\": \"2020-03-02\"\n",
      "    }\n",
      "}\n"
     ]
    }
   ],
   "source": [
    "# orient 'index' creates one element per index\n",
    "df.to_json(jsonFile, orient='index')\n",
    "\n",
    "with open(jsonFile) as f:\n",
    "  jsonData = json.load(f)\n",
    "\n",
    "print(json.dumps(jsonData, indent=4, sort_keys=True))"
   ]
  },
  {
   "cell_type": "code",
   "execution_count": 7,
   "metadata": {},
   "outputs": [
    {
     "name": "stdout",
     "output_type": "stream",
     "text": [
      "[\n",
      "    [\n",
      "        \"USA\",\n",
      "        \"2020-03-01\",\n",
      "        100\n",
      "    ],\n",
      "    [\n",
      "        \"USA\",\n",
      "        \"2020-03-02\",\n",
      "        200\n",
      "    ],\n",
      "    [\n",
      "        \"China\",\n",
      "        \"2020-03-01\",\n",
      "        80000\n",
      "    ],\n",
      "    [\n",
      "        \"China\",\n",
      "        \"2020-03-02\",\n",
      "        80001\n",
      "    ],\n",
      "    [\n",
      "        \"Italy\",\n",
      "        \"2020-03-01\",\n",
      "        5000\n",
      "    ],\n",
      "    [\n",
      "        \"Italy\",\n",
      "        \"2020-03-02\",\n",
      "        5050\n",
      "    ]\n",
      "]\n"
     ]
    }
   ],
   "source": [
    "# orient 'values' drops the index, exports the values, but does not group in any way\n",
    "df.to_json(jsonFile, orient='values')\n",
    "\n",
    "with open(jsonFile) as f:\n",
    "  jsonData = json.load(f)\n",
    "\n",
    "print(json.dumps(jsonData, indent=4, sort_keys=True))"
   ]
  },
  {
   "cell_type": "code",
   "execution_count": 8,
   "metadata": {},
   "outputs": [
    {
     "name": "stdout",
     "output_type": "stream",
     "text": [
      "{\n",
      "    \"data\": [\n",
      "        {\n",
      "            \"Cases\": 100,\n",
      "            \"Country\": \"USA\",\n",
      "            \"Date\": \"2020-03-01\",\n",
      "            \"index\": 0\n",
      "        },\n",
      "        {\n",
      "            \"Cases\": 200,\n",
      "            \"Country\": \"USA\",\n",
      "            \"Date\": \"2020-03-02\",\n",
      "            \"index\": 1\n",
      "        },\n",
      "        {\n",
      "            \"Cases\": 80000,\n",
      "            \"Country\": \"China\",\n",
      "            \"Date\": \"2020-03-01\",\n",
      "            \"index\": 2\n",
      "        },\n",
      "        {\n",
      "            \"Cases\": 80001,\n",
      "            \"Country\": \"China\",\n",
      "            \"Date\": \"2020-03-02\",\n",
      "            \"index\": 3\n",
      "        },\n",
      "        {\n",
      "            \"Cases\": 5000,\n",
      "            \"Country\": \"Italy\",\n",
      "            \"Date\": \"2020-03-01\",\n",
      "            \"index\": 4\n",
      "        },\n",
      "        {\n",
      "            \"Cases\": 5050,\n",
      "            \"Country\": \"Italy\",\n",
      "            \"Date\": \"2020-03-02\",\n",
      "            \"index\": 5\n",
      "        }\n",
      "    ],\n",
      "    \"schema\": {\n",
      "        \"fields\": [\n",
      "            {\n",
      "                \"name\": \"index\",\n",
      "                \"type\": \"integer\"\n",
      "            },\n",
      "            {\n",
      "                \"name\": \"Country\",\n",
      "                \"type\": \"string\"\n",
      "            },\n",
      "            {\n",
      "                \"name\": \"Date\",\n",
      "                \"type\": \"string\"\n",
      "            },\n",
      "            {\n",
      "                \"name\": \"Cases\",\n",
      "                \"type\": \"integer\"\n",
      "            }\n",
      "        ],\n",
      "        \"pandas_version\": \"0.20.0\",\n",
      "        \"primaryKey\": [\n",
      "            \"index\"\n",
      "        ]\n",
      "    }\n",
      "}\n"
     ]
    }
   ],
   "source": [
    "# orient 'table' creates two elements: data, and schema. Useful if you want to work w an ORM\n",
    "df.to_json(jsonFile, orient='table')\n",
    "\n",
    "with open(jsonFile) as f:\n",
    "  jsonData = json.load(f)\n",
    "\n",
    "print(json.dumps(jsonData, indent=4, sort_keys=True))"
   ]
  },
  {
   "cell_type": "code",
   "execution_count": 9,
   "metadata": {},
   "outputs": [
    {
     "name": "stdout",
     "output_type": "stream",
     "text": [
      "{\n",
      "    \"Cases\": {\n",
      "        \"0\": 100,\n",
      "        \"1\": 200,\n",
      "        \"2\": 80000,\n",
      "        \"3\": 80001,\n",
      "        \"4\": 5000,\n",
      "        \"5\": 5050\n",
      "    },\n",
      "    \"Country\": {\n",
      "        \"0\": \"USA\",\n",
      "        \"1\": \"USA\",\n",
      "        \"2\": \"China\",\n",
      "        \"3\": \"China\",\n",
      "        \"4\": \"Italy\",\n",
      "        \"5\": \"Italy\"\n",
      "    },\n",
      "    \"Date\": {\n",
      "        \"0\": \"2020-03-01\",\n",
      "        \"1\": \"2020-03-02\",\n",
      "        \"2\": \"2020-03-01\",\n",
      "        \"3\": \"2020-03-02\",\n",
      "        \"4\": \"2020-03-01\",\n",
      "        \"5\": \"2020-03-02\"\n",
      "    }\n",
      "}\n"
     ]
    }
   ],
   "source": [
    "# orient 'columns' is the default\n",
    "df.to_json(jsonFile, orient='columns')\n",
    "\n",
    "with open(jsonFile) as f:\n",
    "  jsonData = json.load(f)\n",
    "\n",
    "print(json.dumps(jsonData, indent=4, sort_keys=True))"
   ]
  },
  {
   "cell_type": "code",
   "execution_count": null,
   "metadata": {},
   "outputs": [],
   "source": []
  }
 ],
 "metadata": {
  "kernelspec": {
   "display_name": "Python 3",
   "language": "python",
   "name": "python3"
  },
  "language_info": {
   "codemirror_mode": {
    "name": "ipython",
    "version": 3
   },
   "file_extension": ".py",
   "mimetype": "text/x-python",
   "name": "python",
   "nbconvert_exporter": "python",
   "pygments_lexer": "ipython3",
   "version": "3.7.3"
  }
 },
 "nbformat": 4,
 "nbformat_minor": 2
}
