{
 "cells": [
  {
   "cell_type": "code",
   "execution_count": 1,
   "metadata": {},
   "outputs": [],
   "source": [
    "from bs4 import BeautifulSoup\n",
    "import requests\n",
    "import pandas as pd\n",
    "import itertools\n",
    "import matplotlib.pyplot as plt\n",
    "import seaborn as sns\n",
    "sns.set()\n",
    "\n",
    "headers = ({'User-Agent':\n",
    "            'Mozilla/5.0 (Windows NT 6.1) AppleWebKit/537.36 (KHTML, like Gecko) Chrome/41.0.2228.0 Safari/537.36'})"
   ]
  },
  {
   "cell_type": "code",
   "execution_count": 10,
   "metadata": {},
   "outputs": [],
   "source": [
    "url = \"http://www.agileadvice.com/rules-of-scrum/\"\n",
    "page = requests.get(url)\n",
    "soup = BeautifulSoup(page.content, 'html.parser')\n",
    "\n",
    "df = pd.DataFrame(columns=[\"Section\", \"Principle\"])\n",
    "\n",
    "# In Chrome, go to Developer Tools and inspect the container. Right click on the HTML, Copy -> Copy full XPath\n",
    "# Beautiful Soup does not support xpath"
   ]
  },
  {
   "cell_type": "code",
   "execution_count": 21,
   "metadata": {},
   "outputs": [
    {
     "name": "stdout",
     "output_type": "stream",
     "text": [
      "Here is a list of all the rules of Scrum that we have been publishing lately.\n",
      "Also, check out our Scrum Team Assessment to learn how well your team is doing Scrum!\n",
      "The Basic Scrum Process\n",
      "The rules of Scrum related to the Product Backlog\n",
      "The rules of Scrum related to the Team Member Role\n",
      "Rules of Scrum related to the ScrumMaster Role\n",
      "Rules of Scrum related to the Product Owner role\n"
     ]
    }
   ],
   "source": [
    "whole_section = soup.find('div',{'class':'entry-content'})\n",
    "\n",
    "for t in whole_section.find_all('p'):\n",
    "    print(t.get_text())"
   ]
  },
  {
   "cell_type": "code",
   "execution_count": null,
   "metadata": {},
   "outputs": [],
   "source": [
    "whole_section = soup.find('div',{'class':'entry-content'}).find_all('p')\n",
    "\n",
    "try:\n",
    "    section = whole_section.text\n",
    "    ul = whole_section.find_next_sibling(\"ul\")\n",
    "    \n",
    "    for li in ul.find_all(\"li\"):\n",
    "        new_row = {\"Section\" : section, \"Principle\" : li.h1.a.get_text()}\n",
    "        df = df.append(new_row, ignore_index = True)\n",
    "        \n",
    "    print(section)\n",
    "except:\n",
    "    print('***')\n",
    "    \n",
    "df    "
   ]
  },
  {
   "cell_type": "code",
   "execution_count": null,
   "metadata": {},
   "outputs": [],
   "source": [
    "content = soup.find(\"div\", class_=\"entry-content\")\n",
    "# content = soup.find('div',attrs={\"class\":\"entry-content\"})\n",
    "# content = soup.select('div[class=\"entry-content\"]')\n",
    "\n",
    "for headers in content.find_all(\"strong\"):\n",
    "    section = headers.text\n",
    "    print(headers)\n",
    "    for items in headers.find_all('li'):\n",
    "        print(items)"
   ]
  },
  {
   "cell_type": "code",
   "execution_count": null,
   "metadata": {},
   "outputs": [],
   "source": [
    "\n",
    "    try:\n",
    "        ul = headers.find_next_sibling(\"ul\")\n",
    "        \n",
    "        for li in ul.find_all(\"li\"):\n",
    "            new_row = {\"Section\" : section, \"Principle\" : li.h1.a.get_text()}\n",
    "            df = df.append(new_row, ignore_index = True)\n",
    "    except:\n",
    "        print(f'*** Error: no ul under section: \"{section}\"')"
   ]
  },
  {
   "cell_type": "code",
   "execution_count": null,
   "metadata": {},
   "outputs": [],
   "source": []
  },
  {
   "cell_type": "code",
   "execution_count": null,
   "metadata": {},
   "outputs": [],
   "source": [
    "paragraphs = content.find_all(\"p\")\n",
    "for p in paragraphs:\n",
    "    print(p.next_element)"
   ]
  },
  {
   "cell_type": "code",
   "execution_count": null,
   "metadata": {},
   "outputs": [],
   "source": [
    "paragraphs = soup.find_all(\"p\")\n",
    "for p in paragraphs:\n",
    "    section = p.get_text()\n",
    "    \n",
    "    try:\n",
    "        ul = p.find_next_sibling(\"ul\")\n",
    "        \n",
    "        for li in ul.find_all(\"li\"):\n",
    "            new_row = {\"Section\" : section, \"Principle\" : li.h1.a.get_text()}\n",
    "            df = df.append(new_row, ignore_index = True)\n",
    "    except:\n",
    "        print(f'*** Error: no ul under section: \"{section}\"')"
   ]
  },
  {
   "cell_type": "code",
   "execution_count": null,
   "metadata": {},
   "outputs": [],
   "source": [
    "df.head()"
   ]
  },
  {
   "cell_type": "code",
   "execution_count": null,
   "metadata": {},
   "outputs": [],
   "source": [
    "df.to_csv (r'rules_of_scrum_2020.csv', index = True, header=True) "
   ]
  },
  {
   "cell_type": "code",
   "execution_count": null,
   "metadata": {},
   "outputs": [],
   "source": []
  }
 ],
 "metadata": {
  "kernelspec": {
   "display_name": "Python 3",
   "language": "python",
   "name": "python3"
  },
  "language_info": {
   "codemirror_mode": {
    "name": "ipython",
    "version": 3
   },
   "file_extension": ".py",
   "mimetype": "text/x-python",
   "name": "python",
   "nbconvert_exporter": "python",
   "pygments_lexer": "ipython3",
   "version": "3.7.3"
  }
 },
 "nbformat": 4,
 "nbformat_minor": 4
}
